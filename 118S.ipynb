{
  "nbformat": 4,
  "nbformat_minor": 0,
  "metadata": {
    "colab": {
      "provenance": [],
      "authorship_tag": "ABX9TyNGKuu78K6eF7IvxKxCQ/JG",
      "include_colab_link": true
    },
    "kernelspec": {
      "name": "python3",
      "display_name": "Python 3"
    },
    "language_info": {
      "name": "python"
    }
  },
  "cells": [
    {
      "cell_type": "markdown",
      "metadata": {
        "id": "view-in-github",
        "colab_type": "text"
      },
      "source": [
        "<a href=\"https://colab.research.google.com/github/amac415/Gokids-Database/blob/main/118S.ipynb\" target=\"_parent\"><img src=\"https://colab.research.google.com/assets/colab-badge.svg\" alt=\"Open In Colab\"/></a>"
      ]
    },
    {
      "cell_type": "code",
      "execution_count": 4,
      "metadata": {
        "colab": {
          "base_uri": "https://localhost:8080/"
        },
        "id": "Pi28RuoXtqiy",
        "outputId": "29490286-f840-4244-9e5b-2143cebb1ec9"
      },
      "outputs": [
        {
          "output_type": "stream",
          "name": "stdout",
          "text": [
            " CSV Data Loaded:\n",
            "      Name  Age  Score\n",
            "0    Alice   23     85\n",
            "1      Bob   27     90\n",
            "2  Charlie   22     78\n",
            "3    Diana   25     88\n",
            "4    Ethan   24     92\n",
            "\n",
            " First 5 Rows:\n",
            "      Name  Age  Score\n",
            "0    Alice   23     85\n",
            "1      Bob   27     90\n",
            "2  Charlie   22     78\n",
            "3    Diana   25     88\n",
            "4    Ethan   24     92\n",
            "\n",
            " Last 5 Rows:\n",
            "      Name  Age  Score\n",
            "0    Alice   23     85\n",
            "1      Bob   27     90\n",
            "2  Charlie   22     78\n",
            "3    Diana   25     88\n",
            "4    Ethan   24     92\n",
            "\n",
            " Info:\n",
            "<class 'pandas.core.frame.DataFrame'>\n",
            "RangeIndex: 5 entries, 0 to 4\n",
            "Data columns (total 3 columns):\n",
            " #   Column  Non-Null Count  Dtype \n",
            "---  ------  --------------  ----- \n",
            " 0   Name    5 non-null      object\n",
            " 1   Age     5 non-null      int64 \n",
            " 2   Score   5 non-null      int64 \n",
            "dtypes: int64(2), object(1)\n",
            "memory usage: 252.0+ bytes\n",
            "\n",
            " Summary Statistics:\n",
            "             Age      Score\n",
            "count   5.000000   5.000000\n",
            "mean   24.200000  86.600000\n",
            "std     1.923538   5.458938\n",
            "min    22.000000  78.000000\n",
            "25%    23.000000  85.000000\n",
            "50%    24.000000  88.000000\n",
            "75%    25.000000  90.000000\n",
            "max    27.000000  92.000000\n",
            " Raw Data:\n",
            "      Name   Age Score         City\n",
            "0    Alice  23.0    85     New York\n",
            "1      Bob   NaN    90  Los Angeles\n",
            "2  Charlie  22.0  None         None\n",
            "3     None  25.0    88      Chicago\n",
            "4    Ethan  24.0    92      Houston\n",
            "\n",
            " Dropped Rows with Any Missing Values:\n",
            "    Name   Age Score      City\n",
            "0  Alice  23.0    85  New York\n",
            "4  Ethan  24.0    92   Houston\n"
          ]
        }
      ],
      "source": [
        "import pandas as pd\n",
        "from google.colab import files\n",
        "\n",
        "csv_data = pd.read_csv('panda_sample_data.csv')\n",
        "print(\" CSV Data Loaded:\")\n",
        "print(csv_data.head())\n",
        "\n",
        "print(\"\\n First 5 Rows:\")\n",
        "print(csv_data.head())\n",
        "\n",
        "print(\"\\n Last 5 Rows:\")\n",
        "print(csv_data.tail())\n",
        "\n",
        "print(\"\\n Info:\")\n",
        "csv_data.info()\n",
        "\n",
        "print(\"\\n Summary Statistics:\")\n",
        "print(csv_data.describe())\n",
        "\n",
        "\n",
        "import pandas as pd\n",
        "import numpy as np\n",
        "\n",
        "# Sample raw dataset\n",
        "data = {\n",
        "    'Name': ['Alice', 'Bob', 'Charlie', None, 'Ethan'],\n",
        "    'Age': [23, np.nan, 22, 25, 24],\n",
        "    'Score': ['85', '90', None, '88', '92'],\n",
        "    'City': ['New York', 'Los Angeles', None, 'Chicago', 'Houston']\n",
        "}\n",
        "\n",
        "df = pd.DataFrame(data)\n",
        "\n",
        "print(\" Raw Data:\")\n",
        "print(df)\n",
        "\n",
        "\n",
        "df_dropped = df.dropna()\n",
        "print(\"\\n Dropped Rows with Any Missing Values:\")\n",
        "print(df_dropped)"
      ]
    },
    {
      "cell_type": "code",
      "source": [
        "import matplotlib.pyplot as plt\n",
        "import numpy as np\n",
        "\n",
        "data = np.random.randn(1000)\n",
        "\n",
        "plt.hist(data, bins=30, edgecolor='black')\n",
        "plt.title(\"Histogram\")\n",
        "plt.xlabel(\"Value\")\n",
        "plt.ylabel(\"Frequency\")\n",
        "plt.show()"
      ],
      "metadata": {
        "colab": {
          "base_uri": "https://localhost:8080/",
          "height": 472
        },
        "id": "WcrSgnLLf6dg",
        "outputId": "7bbd1d4c-b880-405f-b525-1fd7005c336a"
      },
      "execution_count": 5,
      "outputs": [
        {
          "output_type": "display_data",
          "data": {
            "text/plain": [
              "<Figure size 640x480 with 1 Axes>"
            ],
            "image/png": "[encoded data removed]"
          },
          "metadata": {}
        }
      ]
    }
  ]
}